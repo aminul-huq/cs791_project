{
 "cells": [
  {
   "cell_type": "code",
   "execution_count": 1,
   "id": "65497842-d9c6-4902-82f7-e30b79e385d9",
   "metadata": {},
   "outputs": [],
   "source": [
    "import warnings\n",
    "warnings.filterwarnings(\"ignore\")\n",
    "\n",
    "import numpy as np\n",
    "import cv2, glob, random, shutil, os, plistlib, pickle\n",
    "import pandas as pd\n",
    "import pydicom as pdcm\n",
    "from pathlib import Path\n",
    "from sklearn.model_selection import train_test_split\n",
    "import albumentations as A\n",
    "from skimage.draw import polygon\n",
    "import matplotlib.pyplot as plt\n",
    "from read_roi import read_roi_file\n",
    "\n",
    "from preprocessing_utils import *\n",
    "\n",
    "random.seed(0)\n",
    "np.random.seed(0)"
   ]
  },
  {
   "cell_type": "code",
   "execution_count": 2,
   "id": "d6e89dc9-28bb-41bd-a839-6bbdd88dfb0d",
   "metadata": {},
   "outputs": [],
   "source": [
    "DCM_PATH = '/home/aminul/CVL/data/INbreast_Release_1.0/AllDICOMs/'\n",
    "XML_PATH = '/home/aminul/CVL/data/INbreast_Release_1.0/AllXML/'\n",
    "ROI_PATH = '/home/aminul/CVL/data/INbreast_Release_1.0/AllROI/'"
   ]
  },
  {
   "cell_type": "code",
   "execution_count": 3,
   "id": "b0271f8b-a39b-4c87-a2fe-6c6620bae207",
   "metadata": {
    "tags": []
   },
   "outputs": [],
   "source": [
    "inbreast_data = pd.read_csv('Inbreast_simple.csv')"
   ]
  },
  {
   "cell_type": "markdown",
   "id": "b0659a84-6d28-4214-bbfc-0af7713ea0bb",
   "metadata": {},
   "source": [
    "### Getting data with BIRADs 2 or more"
   ]
  },
  {
   "cell_type": "code",
   "execution_count": 6,
   "id": "599c6ab0-7318-4d30-bbeb-503d8c2d0f07",
   "metadata": {
    "tags": []
   },
   "outputs": [],
   "source": [
    "filename, mass_label, cal_label, bm_label = [],[],[],[]\n",
    "\n",
    "for i in range(len(inbreast_data)-1):\n",
    "    \n",
    "    if inbreast_data['Abnormal_label'][i] != 0:\n",
    "    \n",
    "        filename.append(int(inbreast_data['File_Name'][i]))\n",
    "\n",
    "        bm_label.append(inbreast_data['MB_label'][i])\n",
    "        \n",
    "        if inbreast_data['Mass'][i] == 1:\n",
    "            mass_label.append(1)\n",
    "        else: \n",
    "            mass_label.append(0)\n",
    "            \n",
    "        if inbreast_data['Micros'][i] == 1:\n",
    "            cal_label.append(1)\n",
    "        else:\n",
    "            cal_label.append(0)\n",
    "        "
   ]
  },
  {
   "cell_type": "markdown",
   "id": "56e9d1f2-783b-4042-8231-2dc40dbb2b42",
   "metadata": {},
   "source": [
    "### Original Image and Mask Preparation"
   ]
  },
  {
   "cell_type": "code",
   "execution_count": null,
   "id": "c2aa408a-98f3-4237-89a9-e6ffb933e2d5",
   "metadata": {},
   "outputs": [],
   "source": [
    "for k in range(0,343):\n",
    "    img_name = str(filename[k])\n",
    "    dcm = pdcm.dcmread(glob.glob(os.path.join(DCM_PATH,str(img_name)+'*.dcm'))[0])\n",
    "    img = dcm.pixel_array\n",
    "    a   = Annotation(XML_PATH, img_name, img.shape)\n",
    "    \n",
    "    mass_mask = a.mask[:,:,0]\n",
    "    cal_mask = a.mask[:,:,1]\n",
    "    \n",
    "    comb_mask = np.zeros(mass_mask.shape)\n",
    "\n",
    "    for i in range(mass_mask.shape[0]):\n",
    "        for j in range(mass_mask.shape[1]):\n",
    "            if mass_mask[i][j] == 1 or cal_mask[i][j] == 1:\n",
    "                comb_mask[i][j] = 1\n",
    "            else: \n",
    "                comb_mask[i][j] = 0    \n",
    "                \n",
    "                \n",
    "    plt.imsave('./original_image/'+str(filename[k])+'.jpg', img)\n",
    "    if mass_label[k] != 0:\n",
    "        plt.imsave('./mass_mask/'+str(filename[k])+'_mass.jpg', mass_mask)\n",
    "    if cal_label[k] != 0:\n",
    "        plt.imsave('./calcification_mask/'+str(filename[k])+'_calc.jpg', cal_mask)\n",
    "    plt.imsave('./combined_mask/'+str(filename[k])+'_comb.jpg', comb_mask)"
   ]
  },
  {
   "cell_type": "code",
   "execution_count": 13,
   "id": "682f87c6-9e41-4155-9f2f-4c474b2e0052",
   "metadata": {},
   "outputs": [
    {
     "name": "stdout",
     "output_type": "stream",
     "text": [
      "343\n",
      "108\n",
      "308\n",
      "343\n"
     ]
    }
   ],
   "source": [
    "print(len(os.listdir('original_image/')))\n",
    "print(len(os.listdir('mass_mask/')))\n",
    "print(len(os.listdir('calcification_mask/')))\n",
    "print(len(os.listdir('combined_mask/')))"
   ]
  },
  {
   "cell_type": "code",
   "execution_count": null,
   "id": "e76ef7d2-cc1f-478b-b04b-ff6c84b58b85",
   "metadata": {},
   "outputs": [],
   "source": []
  },
  {
   "cell_type": "code",
   "execution_count": null,
   "id": "d59a01a8-ae80-41e9-87d8-6a8e789951ec",
   "metadata": {},
   "outputs": [],
   "source": []
  },
  {
   "cell_type": "code",
   "execution_count": null,
   "id": "045b6bc1-1ccf-4295-95b3-15f4886ff215",
   "metadata": {},
   "outputs": [],
   "source": []
  },
  {
   "cell_type": "code",
   "execution_count": null,
   "id": "9c3b5750-dc0f-412b-beb2-678a0d4ecb74",
   "metadata": {},
   "outputs": [],
   "source": []
  },
  {
   "cell_type": "code",
   "execution_count": null,
   "id": "630f8727-156b-482d-a7ec-bf1169d65e1f",
   "metadata": {},
   "outputs": [],
   "source": []
  },
  {
   "cell_type": "code",
   "execution_count": null,
   "id": "12d468a2-8468-4e91-8277-2f1e64412724",
   "metadata": {},
   "outputs": [],
   "source": []
  },
  {
   "cell_type": "code",
   "execution_count": null,
   "id": "8a61d860-0d6e-4549-b713-0f0f19201067",
   "metadata": {},
   "outputs": [],
   "source": [
    "patient_id = int(filename[150])\n",
    "image_path = glob.glob(os.path.join(DCM_PATH,str(patient_id)+'*.dcm'))\n",
    "print(image_path, patient_id)\n",
    "mass_mask = load_inbreast_mask(os.path.join(XML_PATH,str(patient_id)+'.xml'))\n",
    "print(mass_mask.shape)"
   ]
  },
  {
   "cell_type": "code",
   "execution_count": null,
   "id": "e0547d48-4e2e-42f6-a82c-ee54b3eeb5e2",
   "metadata": {
    "tags": []
   },
   "outputs": [],
   "source": [
    "read_roi_file(os.path.join(ROI_PATH,str(patient_id)+'.roi'))"
   ]
  },
  {
   "cell_type": "code",
   "execution_count": null,
   "id": "cd590527-15c2-405e-99f4-3a8ee8faa9fe",
   "metadata": {},
   "outputs": [],
   "source": []
  },
  {
   "cell_type": "code",
   "execution_count": null,
   "id": "73afdb96-da42-48ca-84dd-b688de01137a",
   "metadata": {},
   "outputs": [],
   "source": []
  },
  {
   "cell_type": "code",
   "execution_count": null,
   "id": "4818e4c8-6b60-4c75-9394-9cf1b9ec1d3b",
   "metadata": {},
   "outputs": [],
   "source": [
    "ds = dicom.dcmread(image_path[0])\n",
    "pixel_array_numpy = ds.pixel_array"
   ]
  },
  {
   "cell_type": "code",
   "execution_count": null,
   "id": "71f3c242-f0e6-439a-b43f-7bb8805bfe26",
   "metadata": {
    "tags": []
   },
   "outputs": [],
   "source": [
    "breast, mask, ground_truth_cropped = crop(pixel_array_numpy, mass_mask)\n",
    "print(breast.shape)\n",
    "\n",
    "plt.figure(figsize = (15,8))\n",
    "plt.subplot(1,3,1)\n",
    "plt.imshow(breast,cmap='gray')\n",
    "plt.subplot(1,3,2)\n",
    "plt.imshow(mask,cmap='gray')\n",
    "plt.subplot(1,3,3)\n",
    "plt.imshow(ground_truth_cropped,cmap='gray')"
   ]
  },
  {
   "cell_type": "code",
   "execution_count": null,
   "id": "fc6c637e-7049-4485-aeb6-e4228430d9aa",
   "metadata": {},
   "outputs": [],
   "source": [
    "normalized = truncation_normalization(breast, mask)\n",
    "print(normalized.shape)\n",
    "\n",
    "plt.figure(figsize = (15,8))\n",
    "plt.imshow(normalized,cmap='gray')"
   ]
  },
  {
   "cell_type": "code",
   "execution_count": null,
   "id": "86e08c0a-3549-46ca-8f20-357eb1ee5cbd",
   "metadata": {},
   "outputs": [],
   "source": [
    "cl1 = clahe(normalized, 1.0)\n",
    "cl2 = clahe(normalized, 2.0)\n",
    "\n",
    "print(cl1.shape, cl2.shape)\n",
    "\n",
    "plt.figure(figsize = (15,8))\n",
    "\n",
    "plt.subplot(1,3,1)\n",
    "plt.imshow(breast,cmap='gray')\n",
    "plt.subplot(1,3,2)\n",
    "plt.imshow(cl1,cmap='gray')\n",
    "plt.subplot(1,3,3)\n",
    "plt.imshow(cl2,cmap='gray')"
   ]
  },
  {
   "cell_type": "code",
   "execution_count": null,
   "id": "f9811df2-9dd7-45f3-8f51-2b8bf50b56f8",
   "metadata": {},
   "outputs": [],
   "source": [
    "synthetized = cv2.merge((np.array(normalized*255, dtype=np.uint8),cl1,cl2))\n",
    "print(synthetized.shape)\n",
    "\n",
    "plt.figure(figsize = (15,8))\n",
    "plt.subplot(1,3,1)\n",
    "plt.imshow(breast,cmap='gray')\n",
    "plt.subplot(1,3,2)\n",
    "plt.imshow(synthetized,cmap='gray')\n",
    "plt.subplot(1,3,3)\n",
    "plt.imshow(ground_truth_cropped,cmap='gray')"
   ]
  },
  {
   "cell_type": "code",
   "execution_count": null,
   "id": "11eeede9-6d29-4434-a96a-7547b59dc77d",
   "metadata": {},
   "outputs": [],
   "source": [
    "ground_truth_cropped.sum(), mass_mask.sum()"
   ]
  },
  {
   "cell_type": "code",
   "execution_count": null,
   "id": "49169723-00c9-4f96-ad44-9168920054e2",
   "metadata": {},
   "outputs": [],
   "source": []
  },
  {
   "cell_type": "code",
   "execution_count": null,
   "id": "6426c567-bbff-4136-8060-c7102ec875d4",
   "metadata": {},
   "outputs": [],
   "source": []
  },
  {
   "cell_type": "code",
   "execution_count": null,
   "id": "a0b3a5d1-01e4-48e8-aab2-f0e3ec02203f",
   "metadata": {},
   "outputs": [],
   "source": []
  },
  {
   "cell_type": "code",
   "execution_count": null,
   "id": "558c13a6-f4e7-4d58-9999-f871d8431a58",
   "metadata": {},
   "outputs": [],
   "source": []
  },
  {
   "cell_type": "code",
   "execution_count": null,
   "id": "3732444c-c5b9-4394-b138-bb608305465e",
   "metadata": {},
   "outputs": [],
   "source": []
  },
  {
   "cell_type": "code",
   "execution_count": null,
   "id": "ca7acca8-ff71-4d02-a794-4e4c67dcafcc",
   "metadata": {},
   "outputs": [],
   "source": []
  }
 ],
 "metadata": {
  "kernelspec": {
   "display_name": "torch_env",
   "language": "python",
   "name": "torch_env"
  },
  "language_info": {
   "codemirror_mode": {
    "name": "ipython",
    "version": 3
   },
   "file_extension": ".py",
   "mimetype": "text/x-python",
   "name": "python",
   "nbconvert_exporter": "python",
   "pygments_lexer": "ipython3",
   "version": "3.10.9"
  }
 },
 "nbformat": 4,
 "nbformat_minor": 5
}
